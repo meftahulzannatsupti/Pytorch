{
 "cells": [
  {
   "cell_type": "code",
   "execution_count": 1,
   "id": "58b7a9d4",
   "metadata": {},
   "outputs": [],
   "source": [
    "import torch\n",
    "import pandas as pd\n",
    "import numpy as np\n",
    "import matplotlib.pyplot as plt"
   ]
  },
  {
   "cell_type": "code",
   "execution_count": 2,
   "id": "2cbc6d09",
   "metadata": {},
   "outputs": [
    {
     "data": {
      "text/plain": [
       "tensor([3., 6., 9.])"
      ]
     },
     "execution_count": 2,
     "metadata": {},
     "output_type": "execute_result"
    }
   ],
   "source": [
    "#tensor datatypes\n",
    "xyz=torch.tensor([3.0,6.0,9.0], \n",
    "                 dtype=None, device=None, requires_grad=False)\n",
    "xyz"
   ]
  },
  {
   "cell_type": "code",
   "execution_count": 4,
   "id": "80411c02",
   "metadata": {},
   "outputs": [
    {
     "data": {
      "text/plain": [
       "torch.float32"
      ]
     },
     "execution_count": 4,
     "metadata": {},
     "output_type": "execute_result"
    }
   ],
   "source": [
    "xyz.dtype"
   ]
  },
  {
   "cell_type": "code",
   "execution_count": 5,
   "id": "f717f6d4",
   "metadata": {},
   "outputs": [
    {
     "data": {
      "text/plain": [
       "tensor([3., 6., 9.], dtype=torch.float16)"
      ]
     },
     "execution_count": 5,
     "metadata": {},
     "output_type": "execute_result"
    }
   ],
   "source": [
    "abc=xyz.type(torch.float16)\n",
    "abc"
   ]
  },
  {
   "cell_type": "code",
   "execution_count": 6,
   "id": "0d39f58b",
   "metadata": {},
   "outputs": [
    {
     "data": {
      "text/plain": [
       "tensor([ 9., 36., 81.])"
      ]
     },
     "execution_count": 6,
     "metadata": {},
     "output_type": "execute_result"
    }
   ],
   "source": [
    "xyz*abc"
   ]
  },
  {
   "cell_type": "code",
   "execution_count": 7,
   "id": "5841c10d",
   "metadata": {},
   "outputs": [
    {
     "data": {
      "text/plain": [
       "tensor([3, 6, 9])"
      ]
     },
     "execution_count": 7,
     "metadata": {},
     "output_type": "execute_result"
    }
   ],
   "source": [
    "intdtype=torch.tensor([3,6,9], dtype=torch.int64)\n",
    "intdtype"
   ]
  },
  {
   "cell_type": "code",
   "execution_count": 8,
   "id": "299a565c",
   "metadata": {},
   "outputs": [
    {
     "data": {
      "text/plain": [
       "tensor([ 9., 36., 81.])"
      ]
     },
     "execution_count": 8,
     "metadata": {},
     "output_type": "execute_result"
    }
   ],
   "source": [
    "xyz*intdtype"
   ]
  },
  {
   "cell_type": "code",
   "execution_count": 9,
   "id": "6baf89f7",
   "metadata": {},
   "outputs": [
    {
     "data": {
      "text/plain": [
       "tensor([[0.6791, 0.4518, 0.2173, 0.1130],\n",
       "        [0.5962, 0.4376, 0.1078, 0.2114],\n",
       "        [0.1546, 0.6443, 0.9080, 0.1508]])"
      ]
     },
     "execution_count": 9,
     "metadata": {},
     "output_type": "execute_result"
    }
   ],
   "source": [
    "#create a tensor\n",
    "tensor = torch.rand(3,4)\n",
    "tensor\n"
   ]
  },
  {
   "cell_type": "code",
   "execution_count": 10,
   "id": "b97ecf36",
   "metadata": {},
   "outputs": [
    {
     "name": "stdout",
     "output_type": "stream",
     "text": [
      "tensor([[0.6791, 0.4518, 0.2173, 0.1130],\n",
      "        [0.5962, 0.4376, 0.1078, 0.2114],\n",
      "        [0.1546, 0.6443, 0.9080, 0.1508]])\n",
      "Datatype of tensor: torch.float32\n",
      "Shape of tensor: torch.Size([3, 4])\n",
      "Device of tensor is on: cpu\n"
     ]
    }
   ],
   "source": [
    "print(tensor)\n",
    "print(f\"Datatype of tensor: {tensor.dtype}\")\n",
    "print(f\"Shape of tensor: {tensor.shape}\")\n",
    "print(f\"Device of tensor is on: {tensor.device}\")"
   ]
  },
  {
   "cell_type": "code",
   "execution_count": 19,
   "id": "f885d598",
   "metadata": {},
   "outputs": [
    {
     "data": {
      "text/plain": [
       "tensor([11, 12, 13])"
      ]
     },
     "execution_count": 19,
     "metadata": {},
     "output_type": "execute_result"
    }
   ],
   "source": [
    "#manipulating tensors\n",
    "#addition\n",
    "tensor=torch.tensor([1,2,3])\n",
    "tensor+10\n"
   ]
  },
  {
   "cell_type": "code",
   "execution_count": 12,
   "id": "198d203a",
   "metadata": {},
   "outputs": [
    {
     "data": {
      "text/plain": [
       "tensor([ 5, 15, 25])"
      ]
     },
     "execution_count": 12,
     "metadata": {},
     "output_type": "execute_result"
    }
   ],
   "source": [
    "#substraction\n",
    "tensor=torch.tensor([10,20,30])\n",
    "tensor-5"
   ]
  },
  {
   "cell_type": "code",
   "execution_count": 15,
   "id": "30c0961d",
   "metadata": {},
   "outputs": [
    {
     "data": {
      "text/plain": [
       "tensor([3, 6, 9])"
      ]
     },
     "execution_count": 15,
     "metadata": {},
     "output_type": "execute_result"
    }
   ],
   "source": [
    "#multiplication\n",
    "tensor*3"
   ]
  },
  {
   "cell_type": "code",
   "execution_count": 16,
   "id": "1548b369",
   "metadata": {},
   "outputs": [
    {
     "data": {
      "text/plain": [
       "tensor([3, 6, 9])"
      ]
     },
     "execution_count": 16,
     "metadata": {},
     "output_type": "execute_result"
    }
   ],
   "source": [
    "#Pytorch built in function\n",
    "torch.mul(tensor,3)"
   ]
  },
  {
   "cell_type": "code",
   "execution_count": 25,
   "id": "88f3b928",
   "metadata": {
    "scrolled": true
   },
   "outputs": [
    {
     "name": "stdout",
     "output_type": "stream",
     "text": [
      "tensor([1, 2, 3]) * tensor([1, 2, 3])\n",
      "Equals: tensor([1, 4, 9])\n"
     ]
    }
   ],
   "source": [
    "#Matrix multiplication\n",
    "print (tensor,\"*\", tensor)\n",
    "print(f\"Equals: {tensor*tensor}\")\n"
   ]
  },
  {
   "cell_type": "code",
   "execution_count": 26,
   "id": "4026cc40",
   "metadata": {},
   "outputs": [
    {
     "data": {
      "text/plain": [
       "tensor(14)"
      ]
     },
     "execution_count": 26,
     "metadata": {},
     "output_type": "execute_result"
    }
   ],
   "source": [
    "torch.matmul(tensor, tensor)"
   ]
  },
  {
   "cell_type": "code",
   "execution_count": 28,
   "id": "73bec058",
   "metadata": {},
   "outputs": [
    {
     "name": "stdout",
     "output_type": "stream",
     "text": [
      "tensor(14)\n"
     ]
    }
   ],
   "source": [
    "#traditional way\n",
    "value = 0\n",
    "for i in range(len(tensor)):\n",
    "    value+=tensor[i]*tensor[i]\n",
    "print(value)"
   ]
  },
  {
   "cell_type": "code",
   "execution_count": null,
   "id": "4fdc167b",
   "metadata": {},
   "outputs": [],
   "source": [
    "#One of the most common error in deep learning\n",
    "#shape error - inner dimension have to be same/outer diension = result \n"
   ]
  }
 ],
 "metadata": {
  "kernelspec": {
   "display_name": "Python 3 (ipykernel)",
   "language": "python",
   "name": "python3"
  },
  "language_info": {
   "codemirror_mode": {
    "name": "ipython",
    "version": 3
   },
   "file_extension": ".py",
   "mimetype": "text/x-python",
   "name": "python",
   "nbconvert_exporter": "python",
   "pygments_lexer": "ipython3",
   "version": "3.10.9"
  }
 },
 "nbformat": 4,
 "nbformat_minor": 5
}
