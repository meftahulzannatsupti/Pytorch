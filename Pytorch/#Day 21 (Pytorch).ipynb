{
 "cells": [
  {
   "cell_type": "code",
   "execution_count": 1,
   "id": "2ea021d7",
   "metadata": {},
   "outputs": [
    {
     "name": "stdout",
     "output_type": "stream",
     "text": [
      "1.12.1\n"
     ]
    }
   ],
   "source": [
    "import torch\n",
    "print(torch.__version__)"
   ]
  },
  {
   "cell_type": "code",
   "execution_count": 2,
   "id": "88033fad",
   "metadata": {},
   "outputs": [
    {
     "name": "stdout",
     "output_type": "stream",
     "text": [
      "tensor([[0.4491, 0.2945, 0.2503, 0.5021, 0.4476],\n",
      "        [0.0017, 0.8330, 0.2157, 0.2501, 0.4564],\n",
      "        [0.8125, 0.1361, 0.3499, 0.1858, 0.3240],\n",
      "        [0.0643, 0.0687, 0.8388, 0.7117, 0.6158],\n",
      "        [0.4463, 0.2683, 0.7111, 0.5022, 0.1914]])\n"
     ]
    }
   ],
   "source": [
    "#Random Array\n",
    "a = torch.rand(5,5)\n",
    "print(a)"
   ]
  },
  {
   "cell_type": "code",
   "execution_count": 4,
   "id": "db2c1245",
   "metadata": {},
   "outputs": [],
   "source": [
    "device ='cuda' if torch.cuda.is_available else'cpu'\n"
   ]
  },
  {
   "cell_type": "code",
   "execution_count": 5,
   "id": "836f1de0",
   "metadata": {},
   "outputs": [
    {
     "data": {
      "text/plain": [
       "'cuda'"
      ]
     },
     "execution_count": 5,
     "metadata": {},
     "output_type": "execute_result"
    }
   ],
   "source": [
    "device"
   ]
  },
  {
   "cell_type": "code",
   "execution_count": 6,
   "id": "fe726239",
   "metadata": {},
   "outputs": [
    {
     "data": {
      "text/plain": [
       "tensor([[0.0813, 0.1774],\n",
       "        [0.6893, 0.0706],\n",
       "        [0.1663, 0.9134]])"
      ]
     },
     "execution_count": 6,
     "metadata": {},
     "output_type": "execute_result"
    }
   ],
   "source": [
    "randarra = torch.rand((3,2), dtype = torch.float32)\n",
    "randarra"
   ]
  },
  {
   "cell_type": "code",
   "execution_count": 8,
   "id": "928bce98",
   "metadata": {},
   "outputs": [
    {
     "data": {
      "text/plain": [
       "tensor([[1., 0.],\n",
       "        [0., 1.],\n",
       "        [0., 0.],\n",
       "        [0., 0.]])"
      ]
     },
     "execution_count": 8,
     "metadata": {},
     "output_type": "execute_result"
    }
   ],
   "source": [
    "#Eye Array\n",
    "eyearray = torch.eye(4,2)\n",
    "eyearray\n"
   ]
  },
  {
   "cell_type": "code",
   "execution_count": 9,
   "id": "381a4b83",
   "metadata": {},
   "outputs": [
    {
     "data": {
      "text/plain": [
       "tensor([[1., 1., 1., 1.],\n",
       "        [1., 1., 1., 1.],\n",
       "        [1., 1., 1., 1.],\n",
       "        [1., 1., 1., 1.]])"
      ]
     },
     "execution_count": 9,
     "metadata": {},
     "output_type": "execute_result"
    }
   ],
   "source": [
    "#One's Array\n",
    "onesarray= torch.ones(4,4)\n",
    "onesarray"
   ]
  },
  {
   "cell_type": "code",
   "execution_count": 12,
   "id": "00d0a798",
   "metadata": {},
   "outputs": [
    {
     "data": {
      "text/plain": [
       "tensor([ 0,  2,  4,  6,  8, 10])"
      ]
     },
     "execution_count": 12,
     "metadata": {},
     "output_type": "execute_result"
    }
   ],
   "source": [
    "#Arrange Data\n",
    "arrdata = torch.arange(start=0,end=11,step=2)\n",
    "arrdata"
   ]
  },
  {
   "cell_type": "code",
   "execution_count": 17,
   "id": "24da6aa4",
   "metadata": {},
   "outputs": [
    {
     "data": {
      "text/plain": [
       "tensor([[0.8242, 0.7558, 0.9127, 0.7851],\n",
       "        [0.9247, 0.8880, 0.2976, 0.3964],\n",
       "        [0.3410, 0.2053, 0.1129, 0.7037],\n",
       "        [0.8628, 0.4283, 0.0169, 0.1623]])"
      ]
     },
     "execution_count": 17,
     "metadata": {},
     "output_type": "execute_result"
    }
   ],
   "source": [
    "#Multiply two arrays\n",
    "x= torch.rand(4,4)\n",
    "x"
   ]
  },
  {
   "cell_type": "code",
   "execution_count": 18,
   "id": "e82bb84a",
   "metadata": {},
   "outputs": [
    {
     "data": {
      "text/plain": [
       "tensor([[0.1653, 0.2477, 0.2477, 0.7516],\n",
       "        [0.1249, 0.4895, 0.7118, 0.9556],\n",
       "        [0.4976, 0.8692, 0.0763, 0.9683],\n",
       "        [0.9199, 0.2597, 0.1614, 0.2198]])"
      ]
     },
     "execution_count": 18,
     "metadata": {},
     "output_type": "execute_result"
    }
   ],
   "source": [
    "y=torch.rand(4,4)\n",
    "y\n"
   ]
  },
  {
   "cell_type": "code",
   "execution_count": 19,
   "id": "d7691145",
   "metadata": {},
   "outputs": [
    {
     "data": {
      "text/plain": [
       "tensor([[0.1363, 0.1872, 0.2260, 0.5900],\n",
       "        [0.1155, 0.4347, 0.2118, 0.3788],\n",
       "        [0.1697, 0.1784, 0.0086, 0.6814],\n",
       "        [0.7937, 0.1112, 0.0027, 0.0357]])"
      ]
     },
     "execution_count": 19,
     "metadata": {},
     "output_type": "execute_result"
    }
   ],
   "source": [
    "x*y\n"
   ]
  },
  {
   "cell_type": "code",
   "execution_count": null,
   "id": "89f179d5",
   "metadata": {},
   "outputs": [],
   "source": []
  }
 ],
 "metadata": {
  "kernelspec": {
   "display_name": "Python 3 (ipykernel)",
   "language": "python",
   "name": "python3"
  },
  "language_info": {
   "codemirror_mode": {
    "name": "ipython",
    "version": 3
   },
   "file_extension": ".py",
   "mimetype": "text/x-python",
   "name": "python",
   "nbconvert_exporter": "python",
   "pygments_lexer": "ipython3",
   "version": "3.10.9"
  }
 },
 "nbformat": 4,
 "nbformat_minor": 5
}
