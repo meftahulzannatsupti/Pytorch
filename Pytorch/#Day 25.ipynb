{
 "cells": [
  {
   "cell_type": "code",
   "execution_count": 46,
   "id": "32cf0686",
   "metadata": {},
   "outputs": [],
   "source": [
    "import torch\n",
    "import pandas as pd\n",
    "import numpy as np\n",
    "import matplotlib.pyplot as plt\n"
   ]
  },
  {
   "cell_type": "code",
   "execution_count": 2,
   "id": "56a9a3c2",
   "metadata": {},
   "outputs": [
    {
     "data": {
      "text/plain": [
       "(array([1, 2, 3, 4, 5, 6, 7]),\n",
       " tensor([1, 2, 3, 4, 5, 6, 7], dtype=torch.int32))"
      ]
     },
     "execution_count": 2,
     "metadata": {},
     "output_type": "execute_result"
    }
   ],
   "source": [
    "#NumPy array to Tensor\n",
    "array=np.arange(1,8)\n",
    "tensor=torch.from_numpy(array)\n",
    "array, tensor"
   ]
  },
  {
   "cell_type": "code",
   "execution_count": 3,
   "id": "50f4705c",
   "metadata": {},
   "outputs": [
    {
     "data": {
      "text/plain": [
       "(array([2, 3, 4, 5, 6, 7, 8]),\n",
       " tensor([1, 2, 3, 4, 5, 6, 7], dtype=torch.int32))"
      ]
     },
     "execution_count": 3,
     "metadata": {},
     "output_type": "execute_result"
    }
   ],
   "source": [
    "array= array+1\n",
    "array, tensor"
   ]
  },
  {
   "cell_type": "code",
   "execution_count": 5,
   "id": "0d276c5d",
   "metadata": {},
   "outputs": [
    {
     "data": {
      "text/plain": [
       "(tensor([1., 1., 1., 1., 1., 1., 1.]),\n",
       " array([1., 1., 1., 1., 1., 1., 1.], dtype=float32))"
      ]
     },
     "execution_count": 5,
     "metadata": {},
     "output_type": "execute_result"
    }
   ],
   "source": [
    "tensor=torch.ones(7)\n",
    "numpy_tensor=tensor.numpy()\n",
    "tensor,numpy_tensor"
   ]
  },
  {
   "cell_type": "code",
   "execution_count": 6,
   "id": "d9de7b58",
   "metadata": {},
   "outputs": [
    {
     "data": {
      "text/plain": [
       "(tensor([2., 2., 2., 2., 2., 2., 2.]),\n",
       " array([1., 1., 1., 1., 1., 1., 1.], dtype=float32))"
      ]
     },
     "execution_count": 6,
     "metadata": {},
     "output_type": "execute_result"
    }
   ],
   "source": [
    "#Change the tensor\n",
    "tensor=tensor+1\n",
    "tensor,numpy_tensor"
   ]
  },
  {
   "cell_type": "code",
   "execution_count": 9,
   "id": "c463580d",
   "metadata": {},
   "outputs": [
    {
     "name": "stdout",
     "output_type": "stream",
     "text": [
      "tensor([[0.0915, 0.8996, 0.1459, 0.6715],\n",
      "        [0.6583, 0.4828, 0.0663, 0.9361],\n",
      "        [0.3121, 0.3531, 0.5815, 0.3318]])\n",
      "tensor([[0.6016, 0.2185, 0.9733, 0.2521],\n",
      "        [0.8635, 0.4167, 0.2203, 0.7276],\n",
      "        [0.4203, 0.7219, 0.7154, 0.4948]])\n",
      "tensor([[False, False, False, False],\n",
      "        [False, False, False, False],\n",
      "        [False, False, False, False]])\n"
     ]
    }
   ],
   "source": [
    "#Reproducibility\n",
    "a = torch.rand(3,4)\n",
    "b = torch.rand(3,4)\n",
    "print(a)\n",
    "print(b)\n",
    "print(a==b)\n"
   ]
  },
  {
   "cell_type": "code",
   "execution_count": 16,
   "id": "180b18f0",
   "metadata": {},
   "outputs": [
    {
     "name": "stdout",
     "output_type": "stream",
     "text": [
      "tensor([[0.6180, 0.0687, 0.3893, 0.0404],\n",
      "        [0.4013, 0.1442, 0.4605, 0.4877],\n",
      "        [0.5927, 0.9634, 0.1230, 0.4048]])\n",
      "tensor([[0.6180, 0.0687, 0.3893, 0.0404],\n",
      "        [0.4013, 0.1442, 0.4605, 0.4877],\n",
      "        [0.5927, 0.9634, 0.1230, 0.4048]])\n",
      "tensor([[True, True, True, True],\n",
      "        [True, True, True, True],\n",
      "        [True, True, True, True]])\n"
     ]
    }
   ],
   "source": [
    "random_seed=50\n",
    "torch.manual_seed(random_seed)\n",
    "c= torch.rand(3,4)\n",
    "torch.manual_seed(random_seed)\n",
    "d= torch.rand(3,4)\n",
    "print(c)\n",
    "print(d)\n",
    "print(c==d)"
   ]
  },
  {
   "cell_type": "code",
   "execution_count": 47,
   "id": "f16ed065",
   "metadata": {},
   "outputs": [
    {
     "data": {
      "text/plain": [
       "False"
      ]
     },
     "execution_count": 47,
     "metadata": {},
     "output_type": "execute_result"
    }
   ],
   "source": [
    "#Running tensors and Pytorch objects on the GPUs making faster computation\n",
    "\n",
    "torch.cuda.is_available()\n",
    "\n",
    "\n"
   ]
  },
  {
   "cell_type": "code",
   "execution_count": 44,
   "id": "c7b3ffd7",
   "metadata": {},
   "outputs": [
    {
     "data": {
      "text/plain": [
       "'cpu'"
      ]
     },
     "execution_count": 44,
     "metadata": {},
     "output_type": "execute_result"
    }
   ],
   "source": [
    "device=\"cuda\" if torch.cuda.is_available() else \"cpu\"\n",
    "device"
   ]
  },
  {
   "cell_type": "code",
   "execution_count": 39,
   "id": "a4dd136a",
   "metadata": {},
   "outputs": [
    {
     "data": {
      "text/plain": [
       "'cuda'"
      ]
     },
     "execution_count": 39,
     "metadata": {},
     "output_type": "execute_result"
    }
   ],
   "source": [
    "device ='cuda' if torch.cuda.is_available else'cpu'\n",
    "device"
   ]
  },
  {
   "cell_type": "code",
   "execution_count": null,
   "id": "0d056bf3",
   "metadata": {},
   "outputs": [],
   "source": []
  }
 ],
 "metadata": {
  "kernelspec": {
   "display_name": "Python 3 (ipykernel)",
   "language": "python",
   "name": "python3"
  },
  "language_info": {
   "codemirror_mode": {
    "name": "ipython",
    "version": 3
   },
   "file_extension": ".py",
   "mimetype": "text/x-python",
   "name": "python",
   "nbconvert_exporter": "python",
   "pygments_lexer": "ipython3",
   "version": "3.10.9"
  }
 },
 "nbformat": 4,
 "nbformat_minor": 5
}
